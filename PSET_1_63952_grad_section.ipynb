{
  "nbformat": 4,
  "nbformat_minor": 0,
  "metadata": {
    "colab": {
      "provenance": [],
      "collapsed_sections": [],
      "include_colab_link": true
    },
    "kernelspec": {
      "name": "python3",
      "display_name": "Python 3"
    },
    "language_info": {
      "name": "python"
    }
  },
  "cells": [
    {
      "cell_type": "markdown",
      "metadata": {
        "id": "view-in-github",
        "colab_type": "text"
      },
      "source": [
        "<a href=\"https://colab.research.google.com/github/luoguangze/MIT6.3952/blob/main/PSET_1_63952_grad_section.ipynb\" target=\"_parent\"><img src=\"https://colab.research.google.com/assets/colab-badge.svg\" alt=\"Open In Colab\"/></a>"
      ]
    },
    {
      "cell_type": "markdown",
      "source": [
        "# 6.3952: Problem Set 1 Graduate Section\n",
        "\n",
        "This is the code section component of problem set 1 for the grad section of 6.3952. If you have any questions, please reach out to the TAs or instructors via email or Piazza. \n",
        "\n",
        "### Instructions for completion and submission: \n",
        "1. Make a copy of this Colab \n",
        "2. Change the file name to be in the following format: PSET_1_\\<your_kerberos>\n",
        "3. Complete all sections of this notebook. Add screenshots of the visualizations you create, along with your answers, in your pset doc.\n",
        "4. To submit, copy the link to your notebook in your submission file where prompted. Make sure to change the access permissions for the colab (under share, in the right hand corner of this page) to **\"anyone with the link\"**. "
      ],
      "metadata": {
        "id": "pBS6lRcZa661"
      }
    },
    {
      "cell_type": "markdown",
      "source": [
        "To begin, let's import pandas (a python data/stats library) and altair or matplotlib (data visualization libraries). If you are interested in learning more about either, we suggest either this [colab on altair](https://colab.research.google.com/github/uwdata/visualization-curriculum/blob/master/altair_introduction.ipynb) or the [user docs](https://pandas.pydata.org) on pandas."
      ],
      "metadata": {
        "id": "-eEQ6JCSc_gM"
      }
    },
    {
      "cell_type": "code",
      "execution_count": null,
      "metadata": {
        "id": "yHEvG_HUa5Pl"
      },
      "outputs": [],
      "source": [
        "import numpy as np\n",
        "import pandas as pd\n",
        "import altair as alt\n",
        "import matplotlib.pyplot as plt\n",
        "from sklearn import linear_model"
      ]
    },
    {
      "cell_type": "markdown",
      "source": [
        "## Social bias in healthcare\n",
        "\n",
        "In this problem we explore simpson's paradox in the context of predicting risk score for diabetes. We are given a summary of electronic health record for various patients (`df` in the code). Our goal is to predict a patient's risk score for diabetes."
      ],
      "metadata": {
        "id": "4Kb0OyfXNG3i"
      }
    },
    {
      "cell_type": "code",
      "source": [
        "#@title Data\n",
        "data={\n",
        "    'SexStr': ['Male', 'Male', 'Male', 'Male', 'Male', 'Male', 'Male',\n",
        "               'Male', 'Male', 'Male', 'Male', 'Male', 'Male', 'Female',\n",
        "               'Female', 'Female', 'Female', 'Female', 'Female', 'Female',\n",
        "               'Female', 'Female', 'Female', 'Female', 'Female'],\n",
        "    'Weight': [230, 220, 213, 198, 180, 175, 170, 182, 181, 179, 177, 177, 176,\n",
        "               190, 182, 174, 171, 170, 167, 166, 158, 150, 147, 135, 133],\n",
        "    'RaceStr': ['American Indian and Alaska Native','Black',\n",
        "             'American Indian and Alaska Native', 'White', 'White', 'White',\n",
        "             'Black', 'White', 'Asian', 'White', 'Asian', 'White',\n",
        "             'American Indian and Alaska Native',\n",
        "             'American Indian and Alaska Native',\n",
        "             'American Indian and Alaska Native',\n",
        "             'American Indian and Alaska Native','White','Black', 'Asian',\n",
        "             'White', 'Asian','White', 'Asian', 'White', 'White'],\n",
        "    'Risk': [92, 88, 85, 81, 72, 70, 69, 73, 73, 72, 71, 71, 70, 93, 89, 84,\n",
        "             83, 83, 82, 81, 80, 77, 75, 66, 65]\n",
        "    }\n",
        "df = pd.DataFrame(data)\n",
        "\n",
        "# convert strings to numeric values\n",
        "df['Sex'] = [{'Male': 1,'Female': 0}[item] for item in df.SexStr]\n",
        "df['Race'] = [{'American Indian and Alaska Native': 0,'Black': 1,\n",
        "               'White': 2, 'Asian': 3}[item] for item in df.RaceStr]\n",
        "\n",
        "df = df.sample(frac=1)"
      ],
      "metadata": {
        "cellView": "form",
        "id": "TnRmhX1kPZlJ"
      },
      "execution_count": null,
      "outputs": []
    },
    {
      "cell_type": "code",
      "source": [
        "# An example of a few data entries\n",
        "df.head()"
      ],
      "metadata": {
        "id": "CgpcuN-Sht-X"
      },
      "execution_count": null,
      "outputs": []
    },
    {
      "cell_type": "code",
      "source": [
        "# Function for plotting the data\n",
        "def plot_scatter_line(x, y, label, title=None, plot_line=True):\n",
        "  plt.scatter(x, y)\n",
        "  if plot_line:\n",
        "    plt.plot(np.unique(x), np.poly1d(np.polyfit(x, y, 1))(np.unique(x)),\n",
        "             label=label)\n",
        "    plt.legend(loc=\"upper left\")\n",
        "  plt.xlabel(\"Weight\")\n",
        "  plt.ylabel(\"Diabetes Risk\")\n",
        "  plt.title(title)"
      ],
      "metadata": {
        "id": "5SsU4AvGj2O0"
      },
      "execution_count": null,
      "outputs": []
    },
    {
      "cell_type": "markdown",
      "source": [
        "# 3.2 (a)"
      ],
      "metadata": {
        "id": "uTpADPLftjea"
      }
    },
    {
      "cell_type": "code",
      "source": [
        "plot_scatter_line(df['Weight'], df['Risk'], 'Combined',\n",
        "                  '3.2 (a): combined data', plot_line=False)"
      ],
      "metadata": {
        "id": "PDiOVNdHkGZM"
      },
      "execution_count": null,
      "outputs": []
    },
    {
      "cell_type": "markdown",
      "source": [
        "# 3.2 (b)"
      ],
      "metadata": {
        "id": "AFaF6nE6tl_N"
      }
    },
    {
      "cell_type": "code",
      "source": [
        "df1 = df[df['SexStr'] == 'Male'] \n",
        "df2 = df[df['SexStr'] == 'Female'] \n",
        "\n",
        "plot_scatter_line(df1['Weight'], df1['Risk'], 'Male')\n",
        "plot_scatter_line(df2['Weight'], df2['Risk'], 'Female', '3.2 (b): data divided by sex')"
      ],
      "metadata": {
        "id": "TVwv63KJhehZ"
      },
      "execution_count": null,
      "outputs": []
    },
    {
      "cell_type": "markdown",
      "source": [
        "# 3.2 (d)\n",
        "Do the same as 3.2 (b) but separate by **race** in the code section below. Explain some possible reasons for why diabetes risk might vary by race. "
      ],
      "metadata": {
        "id": "S1ZybfhieGJT"
      }
    },
    {
      "cell_type": "code",
      "source": [],
      "metadata": {
        "id": "W4TKHS1Sjlol"
      },
      "execution_count": null,
      "outputs": []
    },
    {
      "cell_type": "markdown",
      "source": [
        "# 3.2 (e)\n",
        "Fill in the code below (using the fit and score functions) and report your training R^2 performance score. Should be about 2 simple lines of code."
      ],
      "metadata": {
        "id": "faecef4cvqUz"
      }
    },
    {
      "cell_type": "code",
      "source": [
        "regr = linear_model.LinearRegression()\n",
        "x, y = df[['Weight']].to_numpy(), df['Risk'].to_numpy()\n",
        "\n",
        "# Use the fit and score functions (from sklearn LinearRegression)\n",
        "# to fit the regr model to the x, y data and report the R^2 score\n",
        "\n",
        "# TODO: fit the model to the data (x, y)\n",
        "# TODO: calculate R^2 score (on x, y)\n"
      ],
      "metadata": {
        "id": "22duUxjOpE91"
      },
      "execution_count": null,
      "outputs": []
    },
    {
      "cell_type": "markdown",
      "source": [
        "#3.2 (f) \n",
        "Repeat the above modeling experiment, this time with a logistical regression model. Write the code below. What is the R^2?"
      ],
      "metadata": {
        "id": "7mYMQ3_7gTzT"
      }
    },
    {
      "cell_type": "code",
      "source": [],
      "metadata": {
        "id": "E-0QK13QghrJ"
      },
      "execution_count": null,
      "outputs": []
    },
    {
      "cell_type": "markdown",
      "source": [
        "# 3.2 (g)\n",
        "Write code below to:\n",
        "\n",
        "\n",
        "*   Add a feature back to see how it influences the performance\n",
        "*   Compare linear and logistic regression models to find which is best for this dataset\n",
        "\n"
      ],
      "metadata": {
        "id": "PTnkc-C7wiAW"
      }
    },
    {
      "cell_type": "code",
      "source": [],
      "metadata": {
        "id": "LsLyWytIf8JM"
      },
      "execution_count": null,
      "outputs": []
    },
    {
      "cell_type": "markdown",
      "source": [
        "## Remember to include screenshots and text responses in your submission doc, along with the link to your colab. Great job finishing!\n"
      ],
      "metadata": {
        "id": "NKiIMqX1hyfa"
      }
    }
  ]
}